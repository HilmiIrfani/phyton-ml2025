{
  "nbformat": 4,
  "nbformat_minor": 0,
  "metadata": {
    "colab": {
      "provenance": [],
      "toc_visible": true
    },
    "kernelspec": {
      "name": "python3",
      "display_name": "Python 3"
    },
    "language_info": {
      "name": "python"
    }
  },
  "cells": [
    {
      "cell_type": "markdown",
      "source": [
        "Latihan Membuat Objek bernama Siswa\n",
        "\n",
        "ang memiliki atribut:\n",
        "\n",
        "nis\n",
        "nama\n",
        "alamat\n",
        "daftar mata pelajaran diambil\n",
        "daftar nilai dari mata pelajaran tersebut\n",
        "atribut ini di deklarasikan di konstruktor."
      ],
      "metadata": {
        "id": "j9brCRnK-pzQ"
      }
    },
    {
      "cell_type": "code",
      "execution_count": null,
      "metadata": {
        "id": "c5Hn37ka9-AI"
      },
      "outputs": [],
      "source": [
        "##Objek SIswa\n",
        "class Siswa:\n",
        "\n",
        "    def __init__(self, nis, nama, alamat):\n",
        "        self.nis = nis\n",
        "        self.nama = nama\n",
        "        self.alamat = alamat\n",
        "        self.__mata_pelajaran = []\n",
        "        self.__nilai = []\n",
        "\n",
        "    def tampilkan(self):\n",
        "        print(\"=\"*20)\n",
        "        print(self.nis,self.nama,self.alamat)\n",
        "        self.tampilkanNilai()\n",
        "        self.tampilkanRataNilai()\n",
        "        print(\"=\"*20)\n",
        "\n",
        "    def tambahNilai(self, mapel, n):\n",
        "        self.__mata_pelajaran.append(mapel)\n",
        "        self.__nilai.append(n)\n",
        "\n",
        "    def tampilkanNilai(self):\n",
        "        for i,j in enumerate(self.__mata_pelajaran):\n",
        "            print(i+1, self.__mata_pelajaran[i],self.__nilai[i])\n",
        "\n",
        "    def tampilkanRataNilai(self):\n",
        "        jumlah = 0\n",
        "        for n in self.__nilai:\n",
        "            jumlah += n\n",
        "        rata = jumlah / len(self.__nilai)\n",
        "        print(\"Rata-Rata Nilai\",rata)\n",
        "\n",
        "class SiswaSMK(Siswa):\n",
        "\n",
        "    def __init__(self, nis, nama, alamat, jurusan):\n",
        "        self.jurusan = jurusan\n",
        "        super().__init__(nis, nama, alamat)\n",
        "\n",
        "    def tampilkan(self):\n",
        "        print(\"=\"*20)\n",
        "        print(self.nis,self.nama,self.alamat)\n",
        "        super().tampilkanNilai()\n",
        "        super().tampilkanRataNilai()\n",
        "        print(\"Jurusan : \", self.jurusan)\n",
        "\n",
        "\n",
        "mikael = Siswa(\"12345\", \"Mikael\", \"Semarang\")\n",
        "yosua = SiswaSMK(\"12346\", \"Yosua\", \"Jakarta\", \"Rekayasa Perangkat Lunak\")\n",
        "\n",
        "## tambah nilai\n",
        "mikael.tambahNilai(\"Matematika\", 98)\n",
        "mikael.tambahNilai(\"IPA\", 95)\n",
        "mikael.tambahNilai(\"Bahasa Inggris\", 100)\n",
        "\n",
        "mikael.tampilkan()\n",
        "\n",
        "yosua.tambahNilai(\"Pemrograman Web\", 100)\n",
        "yosua.tambahNilai(\"Networking 1\", 100)\n",
        "yosua.tampilkan()\n",
        "\n",
        "#mikael.tampilkanNilai()\n",
        "#mikael.tampilkanRataNilai()\n",
        "#yosua.tampilkan()"
      ]
    },
    {
      "cell_type": "markdown",
      "source": [
        "Encapsulation\n",
        "Kita dapat membatasi akses atribut dan method dalam sebuah kelas dengan memanfaatkan sifat private yang di definisikan dengan garis bawah atau underscore single _ atau double __"
      ],
      "metadata": {
        "id": "g87kyQFF_B6Y"
      }
    },
    {
      "cell_type": "code",
      "source": [
        "class Rekening:\n",
        "    def __init__(self):\n",
        "        self.__saldo = 0\n",
        "\n",
        "    def kredit(self, jumlah):\n",
        "        if jumlah < 0:\n",
        "            print(\"Gagal Kredit, Jumlah tidak bisa kurang dari 0\")\n",
        "            return\n",
        "\n",
        "        self.__saldo += jumlah\n",
        "\n",
        "    def debit(self, jumlah):\n",
        "        if jumlah > self.__saldo:\n",
        "            print(\"Gagal Debit, Jumlah melebihi Saldo!\")\n",
        "            return\n",
        "\n",
        "        if jumlah < 0:\n",
        "            print(\"Gagal Debit, Jumlah tidak bisa kurang dari 0\")\n",
        "            return\n",
        "\n",
        "        self.__saldo -= jumlah\n",
        "\n",
        "    def cetakSaldo(self):\n",
        "        print(\"Saldo saat ini \" + str(self.__saldo))\n",
        "\n",
        "bniBudi = Rekening()\n",
        "\n",
        "bniBudi.kredit(1000)\n",
        "bniBudi.cetakSaldo()\n",
        "bniBudi.debit(100000)"
      ],
      "metadata": {
        "colab": {
          "base_uri": "https://localhost:8080/"
        },
        "id": "SkfYUugK_CWz",
        "outputId": "f27488fb-36fc-4682-9dfa-aa47e9b04ede"
      },
      "execution_count": 1,
      "outputs": [
        {
          "output_type": "stream",
          "name": "stdout",
          "text": [
            "Saldo saat ini 1000\n",
            "Gagal Debit, Jumlah melebihi Saldo!\n"
          ]
        }
      ]
    },
    {
      "cell_type": "markdown",
      "source": [
        "Latihan OOP\n",
        "![e2e0b845017353dc3b614de2c30ccab4.png](data:image/png;base64,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)"
      ],
      "metadata": {
        "id": "1tdgmf13_eUc"
      }
    },
    {
      "cell_type": "code",
      "source": [
        "import math\n",
        "class Circle:\n",
        "    def __init__(self, radius, color):\n",
        "        self.__radius = radius\n",
        "        self.__color = color\n",
        "\n",
        "    def getRadius(self):\n",
        "        return self.__radius\n",
        "\n",
        "    def setRadius(self,radius):\n",
        "        self.__radius = radius\n",
        "\n",
        "    def getColor(self):\n",
        "        return self.__color\n",
        "\n",
        "    def setColor(self,color):\n",
        "        self.__color = color\n",
        "\n",
        "    def getArea(self):\n",
        "        return math.pi * self.__radius ** 2\n",
        "\n",
        "\n",
        "# radius = 2, color = blue\n",
        "c1 = Circle(2,\"blue\")\n",
        "# c1.setRadius(2)\n",
        "# c1.setColor(\"blue\")\n",
        "print(c1.getArea())\n",
        "\n",
        "# radius = 2, color = red\n",
        "c2 = Circle(2,\"red\")\n",
        "# c2.setRadius(2)\n",
        "# c2.setColor(\"red\")\n",
        "print(c2.getArea())\n",
        "\n",
        "# radius = 1, color = red\n",
        "c3 = Circle(1,\"red\")\n",
        "# c3.setRadius(1)\n",
        "# c3.setColor(\"red\")\n",
        "print(c3.getArea())"
      ],
      "metadata": {
        "colab": {
          "base_uri": "https://localhost:8080/"
        },
        "id": "m_Vx6whB_cqf",
        "outputId": "6950bf88-caf6-4e62-ac3a-0c414215e37d"
      },
      "execution_count": 2,
      "outputs": [
        {
          "output_type": "stream",
          "name": "stdout",
          "text": [
            "12.566370614359172\n",
            "12.566370614359172\n",
            "3.141592653589793\n"
          ]
        }
      ]
    },
    {
      "cell_type": "code",
      "source": [
        "## Objek Mahasiswa\n",
        "class Mahasiswa:\n",
        "\n",
        "    def __init__(self, nim, nama, alamat):\n",
        "        self.nim = nim\n",
        "        self.nama = nama\n",
        "        self.alamat = alamat\n",
        "        self.__mata_kuliah = []\n",
        "        self.__nilai = []\n",
        "\n",
        "    def tampilkan(self):\n",
        "        print(\"=\"*30)\n",
        "        print(f\"NIM: {self.nim}\\nNama: {self.nama}\\nAlamat: {self.alamat}\")\n",
        "        self.tampilkanNilai()\n",
        "        self.tampilkanRataNilai()\n",
        "        print(\"=\"*30)\n",
        "\n",
        "    def tambahNilai(self, matkul, nilai):\n",
        "        self.__mata_kuliah.append(matkul)\n",
        "        self.__nilai.append(nilai)\n",
        "\n",
        "    def tampilkanNilai(self):\n",
        "        print(\"Daftar Mata Kuliah & Nilai:\")\n",
        "        for i in range(len(self.__mata_kuliah)):\n",
        "            print(f\"{i+1}. {self.__mata_kuliah[i]}: {self.__nilai[i]}\")\n",
        "\n",
        "    def tampilkanRataNilai(self):\n",
        "        if self.__nilai:\n",
        "            rata = sum(self.__nilai) / len(self.__nilai)\n",
        "            print(f\"Rata-Rata Nilai: {rata:.2f}\")\n",
        "        else:\n",
        "            print(\"Belum ada nilai yang dimasukkan.\")\n",
        "\n",
        "class MahasiswaTI(Mahasiswa):\n",
        "\n",
        "    def __init__(self, nim, nama, alamat, peminatan):\n",
        "        self.peminatan = peminatan\n",
        "        super().__init__(nim, nama, alamat)\n",
        "\n",
        "    def tampilkan(self):\n",
        "        print(\"=\"*30)\n",
        "        print(f\"NIM: {self.nim}\\nNama: {self.nama}\\nAlamat: {self.alamat}\")\n",
        "        super().tampilkanNilai()\n",
        "        super().tampilkanRataNilai()\n",
        "        print(f\"Peminatan: {self.peminatan}\")\n",
        "        print(\"=\"*30)\n",
        "\n",
        "# Membuat objek mahasiswa\n",
        "hilmi = Mahasiswa(\"15348\", \"Hilmi\", \"Brebes\")\n",
        "budi = MahasiswaTI(\"15349\", \"Budi\", \"Bandung\", \"Sistem Informasi\")\n",
        "\n",
        "# Menambahkan nilai\n",
        "hilmi.tambahNilai(\"Pembelajaran Mesin\", 85)\n",
        "hilmi.tambahNilai(\"Pemrograman Web Lanjut\", 90)\n",
        "hilmi.tambahNilai(\"Otomata\", 88)\n",
        "\n",
        "budi.tambahNilai(\"RPL\", 95)\n",
        "budi.tambahNilai(\"Jaringan Komputer\", 92)\n",
        "\n",
        "# Menampilkan data mahasiswa\n",
        "andi.tampilkan()\n",
        "budi.tampilkan()"
      ],
      "metadata": {
        "colab": {
          "base_uri": "https://localhost:8080/"
        },
        "id": "pOBSbTYwBrPE",
        "outputId": "a41c2dd8-6a72-4598-acc5-f6f536a637ec"
      },
      "execution_count": 7,
      "outputs": [
        {
          "output_type": "stream",
          "name": "stdout",
          "text": [
            "==============================\n",
            "NIM: 15348\n",
            "Nama: Hilmi\n",
            "Alamat: Brebes\n",
            "Daftar Mata Kuliah & Nilai:\n",
            "1. Kalkulus: 85\n",
            "2. Pemrograman: 90\n",
            "3. Statistika: 88\n",
            "Rata-Rata Nilai: 87.67\n",
            "==============================\n",
            "==============================\n",
            "NIM: 15349\n",
            "Nama: Budi\n",
            "Alamat: Bandung\n",
            "Daftar Mata Kuliah & Nilai:\n",
            "1. RPL: 95\n",
            "2. Jaringan Komputer: 92\n",
            "Rata-Rata Nilai: 93.50\n",
            "Peminatan: Sistem Informasi\n",
            "==============================\n"
          ]
        }
      ]
    },
    {
      "cell_type": "markdown",
      "source": [
        "Employee"
      ],
      "metadata": {
        "id": "EUbGBLj4BOFU"
      }
    },
    {
      "cell_type": "code",
      "source": [
        "class Employee:\n",
        "    def __init__(self,idEmp,firstName,lastName,salary):\n",
        "        self.__idEmp = idEmp\n",
        "        self.__firstName = firstName\n",
        "        self.__lastName = lastName\n",
        "        self.__salary = salary\n",
        "\n",
        "    def getID(self):\n",
        "        return self.__idEmp\n",
        "\n",
        "    def getFirstName(self):\n",
        "        return self.__firstName\n",
        "\n",
        "    def getLastName(self):\n",
        "        return self.__lastName\n",
        "\n",
        "    def getName(self):\n",
        "        return self.__firstName + \" \" + self.__lastName\n",
        "\n",
        "    def getSalary(self):\n",
        "        return self.__salary\n",
        "\n",
        "    def setSalary(self,salary):\n",
        "        self.__salary = salary\n",
        "\n",
        "    def getAnnualSalary(self):\n",
        "        return self.__salary * 12\n",
        "\n",
        "    def raiseSalary(self,percent):\n",
        "        self.__salary += self.__salary * (percent/100)\n",
        "        return self.__salary\n",
        "\n",
        "    def __str__(self):\n",
        "        return self.getName() + \" \" + str(self.getSalary())\n",
        "\n",
        "\n",
        "class Manager(Employee):\n",
        "    def __init__(self,idEmp,firstName,lastName,salary,bonus):\n",
        "        super().__init__(idEmp,firstName,lastName,salary)\n",
        "        self.__bonus = bonus\n",
        "\n",
        "    def setBranch(self, branch):\n",
        "        self.__branch = branch\n",
        "\n",
        "    def getBranch(self, branch):\n",
        "        return self.__branch\n",
        "\n",
        "    def getBonus(self, bonus):\n",
        "        return self.__bonus\n",
        "\n",
        "    def setBonus(self, bonus):\n",
        "        self.__bonus = bonus\n",
        "\n",
        "    def getAnnualSalary(self):\n",
        "        return super().getSalary() * 12 + self.__bonus\n",
        "\n",
        "\n",
        "m1 = Manager(1234,\"Guntur\",\"Budi\",5000,9000)\n",
        "print(m1.getName())\n",
        "print(m1.getAnnualSalary())\n",
        "\n",
        "# e1 = Employee(1234,\"Guntur\",\"Budi\",5000)\n",
        "# print(e1.getSalary())\n",
        "# print(e1.getAnnualSalary())\n",
        "# print(e1.raiseSalary(50))\n",
        "# print(e1.getAnnualSalary())\n",
        "# print(e1)"
      ],
      "metadata": {
        "colab": {
          "base_uri": "https://localhost:8080/"
        },
        "id": "WBcQokWi_nE1",
        "outputId": "128cf8cb-1db0-4411-de2a-b77d211913eb"
      },
      "execution_count": 5,
      "outputs": [
        {
          "output_type": "stream",
          "name": "stdout",
          "text": [
            "Guntur Budi\n",
            "69000\n"
          ]
        }
      ]
    }
  ]
}