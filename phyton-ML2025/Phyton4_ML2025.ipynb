{
  "nbformat": 4,
  "nbformat_minor": 0,
  "metadata": {
    "colab": {
      "provenance": []
    },
    "kernelspec": {
      "name": "python3",
      "display_name": "Python 3"
    },
    "language_info": {
      "name": "python"
    }
  },
  "cells": [
    {
      "cell_type": "code",
      "source": [
        "Latihan"
      ],
      "metadata": {
        "id": "s7JFZiDl9xyE"
      },
      "execution_count": null,
      "outputs": []
    },
    {
      "cell_type": "code",
      "execution_count": 1,
      "metadata": {
        "colab": {
          "base_uri": "https://localhost:8080/"
        },
        "id": "QiV8FsVt8lve",
        "outputId": "f79b292d-5506-45fa-e281-40372947d092"
      },
      "outputs": [
        {
          "output_type": "stream",
          "name": "stdout",
          "text": [
            "80 derajat = 1.3962634015954636 radian\n",
            "1.3962634015954636 radian = 80.0 derajat\n",
            "================================\n",
            "sin(80) = 0.984807753012208\n",
            "cos(80) = 0.17364817766693041\n",
            "tan(80) = 5.671281819617707\n",
            "asin(sin(80)) = 79.99999999999999 derajat\n",
            "acos(cos(80)) = 80.0 derajat\n",
            "atan(tan(80)) = 80.0 derajat\n",
            "================================\n",
            "Sebelum override:\n",
            "sin(pi/2) = 1.0\n",
            "=====\n",
            "Setelah override:\n",
            "sin(pi/2) = 0.99999999\n",
            "sin(pi) = Fungsi tidak dikenali\n",
            "================================\n",
            "cos(pi/2) setelah override = 0\n",
            "================================\n",
            "Nilai π (sebelum override): 3.14\n",
            "Nilai e: 2.718281828459045\n"
          ]
        }
      ],
      "source": [
        "\n",
        "from math import pi, radians, degrees, sin, cos, tan, asin, acos, atan\n",
        "\n",
        "# 1. Konversi Derajat ke Radian dan Sebaliknya\n",
        "ad = 80\n",
        "ar = radians(ad)\n",
        "print(f\"{ad} derajat = {ar} radian\")\n",
        "\n",
        "ad_back = degrees(ar)\n",
        "print(f\"{ar} radian = {ad_back} derajat\")\n",
        "\n",
        "print(\"================================\")\n",
        "\n",
        "# 2. Perhitungan Trigonometri\n",
        "print(f\"sin({ad}) = {sin(ar)}\")\n",
        "print(f\"cos({ad}) = {cos(ar)}\")\n",
        "print(f\"tan({ad}) = {tan(ar)}\")\n",
        "\n",
        "print(f\"asin(sin({ad})) = {degrees(asin(sin(ar)))} derajat\")\n",
        "print(f\"acos(cos({ad})) = {degrees(acos(cos(ar)))} derajat\")\n",
        "print(f\"atan(tan({ad})) = {degrees(atan(tan(ar)))} derajat\")\n",
        "\n",
        "print(\"================================\")\n",
        "\n",
        "# 3. Override Nilai sin dan pi\n",
        "from math import sin, pi\n",
        "\n",
        "print(\"Sebelum override:\")\n",
        "print(f\"sin(pi/2) = {sin(pi/2)}\")\n",
        "\n",
        "print(\"=====\")\n",
        "\n",
        "# Override nilai pi dan sin\n",
        "pi = 3.14\n",
        "\n",
        "def sin(x):\n",
        "    if 2 * x == pi:\n",
        "        return 0.99999999\n",
        "    else:\n",
        "        return \"Fungsi tidak dikenali\"\n",
        "\n",
        "print(\"Setelah override:\")\n",
        "print(f\"sin(pi/2) = {sin(pi/2)}\")\n",
        "print(f\"sin(pi) = {sin(pi)}\")\n",
        "\n",
        "print(\"================================\")\n",
        "\n",
        "# 4. Override Fungsi Trigonometri Tambahan\n",
        "def cos(x):\n",
        "    return 0 if x == pi/2 else \"Override: Fungsi tidak dikenali\"\n",
        "\n",
        "print(f\"cos(pi/2) setelah override = {cos(pi/2)}\")  # Seharusnya 0\n",
        "\n",
        "print(\"================================\")\n",
        "\n",
        "# 5. Konstanta Penting dalam Matematika\n",
        "from math import e\n",
        "\n",
        "print(f\"Nilai π (sebelum override): {pi}\")\n",
        "print(f\"Nilai e: {e}\")"
      ]
    }
  ]
}