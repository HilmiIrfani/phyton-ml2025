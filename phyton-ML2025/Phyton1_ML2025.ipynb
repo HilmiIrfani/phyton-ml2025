{
  "nbformat": 4,
  "nbformat_minor": 0,
  "metadata": {
    "colab": {
      "provenance": []
    },
    "kernelspec": {
      "name": "python3",
      "display_name": "Python 3"
    },
    "language_info": {
      "name": "python"
    }
  },
  "cells": [
    {
      "cell_type": "markdown",
      "source": [
        "Latihan Variable"
      ],
      "metadata": {
        "id": "d5QwrpmTwDwb"
      }
    },
    {
      "cell_type": "code",
      "execution_count": 3,
      "metadata": {
        "colab": {
          "base_uri": "https://localhost:8080/"
        },
        "id": "hWrPTPKCqi4f",
        "outputId": "d19e3932-3e3d-4f20-f7e6-27eec59abbaa"
      },
      "outputs": [
        {
          "output_type": "stream",
          "name": "stdout",
          "text": [
            "Darjo: 2, Darno: 5, Waginem: 6\n",
            "Total apel: 13\n",
            "Apel Darjo dikalikan 2: 4\n",
            "Apel Darno dibagi 2: 2.5\n",
            "Selisih apel Darno dan Waginem: -1\n"
          ]
        }
      ],
      "source": [
        "# Inisialisasi variabel dengan jumlah apel yang dimiliki\n",
        "Darjo = 2\n",
        "Darno = 5\n",
        "Waginem = 6\n",
        "\n",
        "# Cetak nama variabel dan jumlah apel mereka dalam 1 baris, dipisahkan dengan koma\n",
        "print(f\"Darjo: {Darjo}, Darno: {Darno}, Waginem: {Waginem}\")\n",
        "\n",
        "# Hitung total apel\n",
        "totalApel = Darjo + Darno + Waginem\n",
        "print(f\"Total apel: {totalApel}\")\n",
        "\n",
        "# Eksperimen dengan variabel dan operator aritmetika\n",
        "apelDarjoKali2 = Darjo * 2\n",
        "apelDarnoBagi2 = Darno / 2\n",
        "selisihApelDarnoWaginem = Darno - Waginem\n",
        "\n",
        "# Cetak hasil operasi lainnya\n",
        "print(f\"Apel Darjo dikalikan 2: {apelDarjoKali2}\")\n",
        "print(f\"Apel Darno dibagi 2: {apelDarnoBagi2}\")\n",
        "print(f\"Selisih apel Darno dan Waginem: {selisihApelDarnoWaginem}\")\n"
      ]
    },
    {
      "cell_type": "markdown",
      "source": [
        "Latihan Variables: a simple converter"
      ],
      "metadata": {
        "id": "1k_qMN1mv8ZY"
      }
    },
    {
      "cell_type": "code",
      "source": [
        "kilometer = 12.25\n",
        "mil = 7.38\n",
        "\n",
        "\n",
        "miles_to_kilometers = 1 * 1.61\n",
        "kilometers_to_miles = 1 / 1.61\n",
        "\n",
        "#koversinya\n",
        "mil_ke_km = 7.38 * 1.61\n",
        "km_ke_mil = 12.25 / 1.61\n",
        "\n",
        "\n",
        "print(\"1 mil adalah\", round(miles_to_kilometers, 2), \"kilometer\")\n",
        "print(\"1 kilometer adalah\", round(kilometers_to_miles, 2), \"mil\")\n",
        "\n",
        "#hasil untuk konversinya\n",
        "print(mil, \"mil adalah\", round(mil_ke_km, 2), \"kilometer\")\n",
        "print(kilometer, \"kilometer adalah\", round(km_ke_mil, 2), \"mil\")"
      ],
      "metadata": {
        "colab": {
          "base_uri": "https://localhost:8080/"
        },
        "id": "niUHxlfYuR35",
        "outputId": "65037e43-b767-4e2f-d6aa-eb75344b04cb"
      },
      "execution_count": 5,
      "outputs": [
        {
          "output_type": "stream",
          "name": "stdout",
          "text": [
            "1 mil adalah 1.61 kilometer\n",
            "1 kilometer adalah 0.62 mil\n",
            "7.38 mil adalah 11.88 kilometer\n",
            "12.25 kilometer adalah 7.61 mil\n"
          ]
        }
      ]
    },
    {
      "cell_type": "markdown",
      "source": [
        "Latihan: Operator and expressions"
      ],
      "metadata": {
        "id": "dPyqKxu5wZYz"
      }
    },
    {
      "cell_type": "code",
      "source": [
        "x = -1\n",
        "x = float(x)\n",
        "\n",
        "# (3x^3) - (2x^2) + 3x - 1\n",
        "y = (3 * x**3) - (2 * x**2) + (3 * x) - 1\n",
        "\n",
        "print(\"y =\", y)\n"
      ],
      "metadata": {
        "colab": {
          "base_uri": "https://localhost:8080/"
        },
        "id": "-0nKXJHGvxVR",
        "outputId": "0e2e9f81-1da7-42f3-d27c-938cec478071"
      },
      "execution_count": 6,
      "outputs": [
        {
          "output_type": "stream",
          "name": "stdout",
          "text": [
            "y = -9.0\n"
          ]
        }
      ]
    },
    {
      "cell_type": "markdown",
      "source": [
        "Apa outputnya?\n",
        "\n",
        "var = 2\n",
        "var = 3\n",
        "print(var)\n",
        "\n",
        "Variabel var pertama kali diberi nilai 2.\n",
        "Nilai 2 langsung ditimpa oleh nilai baru 3 pada baris berikutnya.\n",
        "Ketika print(var) dijalankan, yang dicetak adalah nilai terakhir yang diberikan ke variabel var, yaitu 3."
      ],
      "metadata": {
        "id": "paXq9L3ww_7j"
      }
    },
    {
      "cell_type": "markdown",
      "source": [
        "Nama variabel yang ilegal:\n",
        "\n",
        "101: Variabel tidak boleh dimulai dengan angka.\n",
        "m 101: Nama variabel tidak boleh mengandung spasi.\n",
        "Del dan del: del adalah kata kunci (reserved keyword) dalam Python, sehingga tidak bisa digunakan sebagai nama variabel.\n",
        "\n"
      ],
      "metadata": {
        "id": "Dz-uS2hVxO1g"
      }
    },
    {
      "cell_type": "code",
      "source": [
        "a = '1'\n",
        "b = \"1\"\n",
        "print(a + b)"
      ],
      "metadata": {
        "colab": {
          "base_uri": "https://localhost:8080/"
        },
        "id": "XeIIkyeZxt7S",
        "outputId": "43a0c6d8-6203-43a4-9f4c-7ea55555ca31"
      },
      "execution_count": 7,
      "outputs": [
        {
          "output_type": "stream",
          "name": "stdout",
          "text": [
            "11\n"
          ]
        }
      ]
    },
    {
      "cell_type": "code",
      "source": [
        "a = 6\n",
        "b = 3\n",
        "a /= 2 * b\n",
        "print(a)"
      ],
      "metadata": {
        "colab": {
          "base_uri": "https://localhost:8080/"
        },
        "id": "bNFmt3Emx1kv",
        "outputId": "bfd94b00-00ab-484e-948a-1f144bd0d44e"
      },
      "execution_count": 8,
      "outputs": [
        {
          "output_type": "stream",
          "name": "stdout",
          "text": [
            "1.0\n"
          ]
        }
      ]
    },
    {
      "cell_type": "markdown",
      "source": [
        "Latihan: mana yang seharusnya menjadi komentar, mana yang tidak"
      ],
      "metadata": {
        "id": "kooGGsOQx-BN"
      }
    },
    {
      "cell_type": "code",
      "source": [
        "#test           # Ini adalah komentar\n",
        "print(\"Hai...\") # Ini adalah perintah Python yang valid, bukan komentar\n",
        "#test1          # Ini adalah komentar\n",
        "#test2          # Ini adalah komentar"
      ],
      "metadata": {
        "colab": {
          "base_uri": "https://localhost:8080/"
        },
        "id": "tVM0GfL-x_ku",
        "outputId": "3f6b4941-3021-4a79-838b-e772a224ddd1"
      },
      "execution_count": 11,
      "outputs": [
        {
          "output_type": "stream",
          "name": "stdout",
          "text": [
            "Hai...\n"
          ]
        }
      ]
    },
    {
      "cell_type": "markdown",
      "source": [
        "Membuat cetak bangun datar persegi dengan replication"
      ],
      "metadata": {
        "id": "eArjAlHxy6fU"
      }
    },
    {
      "cell_type": "code",
      "source": [
        "print(\"+\" + 10*\"-\" + \"+\")\n",
        "print((\"|\" + 10*\" \" + \"|\\n\") * 5, end=\"\")\n",
        "print(\"+\" + 10*\"-\" + \"+\")"
      ],
      "metadata": {
        "colab": {
          "base_uri": "https://localhost:8080/"
        },
        "id": "z3iQoCKZyRJL",
        "outputId": "c82a5afc-b497-43cd-ddac-9ca712809995"
      },
      "execution_count": 10,
      "outputs": [
        {
          "output_type": "stream",
          "name": "stdout",
          "text": [
            "+----------+\n",
            "|          |\n",
            "|          |\n",
            "|          |\n",
            "|          |\n",
            "|          |\n",
            "+----------+\n"
          ]
        }
      ]
    },
    {
      "cell_type": "markdown",
      "source": [
        "Latihan : Simple input and output"
      ],
      "metadata": {
        "id": "Mc88dkEXyzmz"
      }
    },
    {
      "cell_type": "code",
      "source": [
        "# Masukkan nilai a dalam float\n",
        "a = float(input(\"Masukkan nilai a: \"))\n",
        "\n",
        "# Masukkan nilai b dalam float\n",
        "b = float(input(\"Masukkan nilai b: \"))\n",
        "\n",
        "# Hitung hasil penambahan disini\n",
        "penjumlahan = a + b\n",
        "\n",
        "# Hitung hasil pengurangan disini\n",
        "pengurangan = a - b\n",
        "\n",
        "# Hitung hasil perkalian disini\n",
        "perkalian = a * b\n",
        "\n",
        "# Hitung hasil pembagian disini\n",
        "pembagian = a / b if b != 0 else \"Tidak dapat membagi dengan nol\"\n",
        "\n",
        "# Cetak hasil operasi\n",
        "print(\"\\nHasil operasi:\")\n",
        "print(f\"Penjumlahan: {penjumlahan}\")\n",
        "print(f\"Pengurangan: {pengurangan}\")\n",
        "print(f\"Perkalian: {perkalian}\")\n",
        "print(f\"Pembagian: {pembagian}\")\n",
        "\n",
        "print(\"\\nYeahhhh\")\n"
      ],
      "metadata": {
        "id": "Ju0JtOk6yxxL"
      },
      "execution_count": null,
      "outputs": []
    },
    {
      "cell_type": "markdown",
      "source": [
        "Latihan: Operators and expressions"
      ],
      "metadata": {
        "id": "oU-4bVsTzNSe"
      }
    },
    {
      "cell_type": "code",
      "source": [
        "import math  # Perlu untuk operasi matematika\n",
        "\n",
        "# Masukkan nilai x\n",
        "x = float(input(\"Masukkan nilai x: \"))\n",
        "\n",
        "# Hitung nilai y berdasarkan rumus tertentu\n",
        "# Misalnya: y = 1 / math.sqrt(1 + x**2)\n",
        "y = 1 / math.sqrt(1 + x**2)\n",
        "\n",
        "# Cetak hasil\n",
        "print(f\"x = {x}\")\n",
        "print(f\"y = {y}\")\n"
      ],
      "metadata": {
        "colab": {
          "base_uri": "https://localhost:8080/"
        },
        "id": "izYCPCwRzHXm",
        "outputId": "3511fc34-bc1d-4b56-e661-14664fb80846"
      },
      "execution_count": 12,
      "outputs": [
        {
          "output_type": "stream",
          "name": "stdout",
          "text": [
            "Masukkan nilai x: 3\n",
            "x = 3.0\n",
            "y = 0.31622776601683794\n"
          ]
        }
      ]
    }
  ]
}